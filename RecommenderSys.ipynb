{
 "cells": [
  {
   "cell_type": "markdown",
   "id": "93c88474-5ee9-4d81-91d3-b7543d5951fb",
   "metadata": {},
   "source": [
    "this is a basic recommender system implemantaion that uses content-based filtering to suggest movies."
   ]
  },
  {
   "cell_type": "code",
   "execution_count": 40,
   "id": "edb0b63d-c5cb-4df1-a4ea-65212f936ea8",
   "metadata": {},
   "outputs": [],
   "source": [
    "import pandas as pd\n",
    "from sklearn.metrics.pairwise import cosine_similarity\n",
    "from sklearn.feature_extraction.text import CountVectorizer"
   ]
  },
  {
   "cell_type": "code",
   "execution_count": 7,
   "id": "d268ead7-8b51-4a27-b9ab-711c07755c0c",
   "metadata": {},
   "outputs": [
    {
     "data": {
      "text/html": [
       "<div>\n",
       "<style scoped>\n",
       "    .dataframe tbody tr th:only-of-type {\n",
       "        vertical-align: middle;\n",
       "    }\n",
       "\n",
       "    .dataframe tbody tr th {\n",
       "        vertical-align: top;\n",
       "    }\n",
       "\n",
       "    .dataframe thead th {\n",
       "        text-align: right;\n",
       "    }\n",
       "</style>\n",
       "<table border=\"1\" class=\"dataframe\">\n",
       "  <thead>\n",
       "    <tr style=\"text-align: right;\">\n",
       "      <th></th>\n",
       "      <th>movieId</th>\n",
       "      <th>title</th>\n",
       "      <th>genres</th>\n",
       "    </tr>\n",
       "  </thead>\n",
       "  <tbody>\n",
       "    <tr>\n",
       "      <th>0</th>\n",
       "      <td>1</td>\n",
       "      <td>Toy Story (1995)</td>\n",
       "      <td>Adventure|Animation|Children|Comedy|Fantasy</td>\n",
       "    </tr>\n",
       "    <tr>\n",
       "      <th>1</th>\n",
       "      <td>2</td>\n",
       "      <td>Jumanji (1995)</td>\n",
       "      <td>Adventure|Children|Fantasy</td>\n",
       "    </tr>\n",
       "    <tr>\n",
       "      <th>2</th>\n",
       "      <td>3</td>\n",
       "      <td>Grumpier Old Men (1995)</td>\n",
       "      <td>Comedy|Romance</td>\n",
       "    </tr>\n",
       "    <tr>\n",
       "      <th>3</th>\n",
       "      <td>4</td>\n",
       "      <td>Waiting to Exhale (1995)</td>\n",
       "      <td>Comedy|Drama|Romance</td>\n",
       "    </tr>\n",
       "    <tr>\n",
       "      <th>4</th>\n",
       "      <td>5</td>\n",
       "      <td>Father of the Bride Part II (1995)</td>\n",
       "      <td>Comedy</td>\n",
       "    </tr>\n",
       "  </tbody>\n",
       "</table>\n",
       "</div>"
      ],
      "text/plain": [
       "   movieId                               title  \\\n",
       "0        1                    Toy Story (1995)   \n",
       "1        2                      Jumanji (1995)   \n",
       "2        3             Grumpier Old Men (1995)   \n",
       "3        4            Waiting to Exhale (1995)   \n",
       "4        5  Father of the Bride Part II (1995)   \n",
       "\n",
       "                                        genres  \n",
       "0  Adventure|Animation|Children|Comedy|Fantasy  \n",
       "1                   Adventure|Children|Fantasy  \n",
       "2                               Comedy|Romance  \n",
       "3                         Comedy|Drama|Romance  \n",
       "4                                       Comedy  "
      ]
     },
     "execution_count": 7,
     "metadata": {},
     "output_type": "execute_result"
    }
   ],
   "source": [
    "df = pd.read_csv(\"movies.csv\")\n",
    "df.head()"
   ]
  },
  {
   "cell_type": "code",
   "execution_count": 11,
   "id": "59f9bc66-cf6f-4a72-bb63-c3577011df76",
   "metadata": {},
   "outputs": [
    {
     "data": {
      "text/plain": [
       "(9742, 3)"
      ]
     },
     "execution_count": 11,
     "metadata": {},
     "output_type": "execute_result"
    }
   ],
   "source": [
    "df.shape"
   ]
  },
  {
   "cell_type": "code",
   "execution_count": 13,
   "id": "eedaa4e7-e90f-47a5-8504-a8eca3127c84",
   "metadata": {},
   "outputs": [
    {
     "name": "stdout",
     "output_type": "stream",
     "text": [
      "<class 'pandas.core.frame.DataFrame'>\n",
      "RangeIndex: 9742 entries, 0 to 9741\n",
      "Data columns (total 3 columns):\n",
      " #   Column   Non-Null Count  Dtype \n",
      "---  ------   --------------  ----- \n",
      " 0   movieId  9742 non-null   int64 \n",
      " 1   title    9742 non-null   object\n",
      " 2   genres   9742 non-null   object\n",
      "dtypes: int64(1), object(2)\n",
      "memory usage: 228.5+ KB\n"
     ]
    }
   ],
   "source": [
    "df.info()     # here title and genres is string, but movieId is an integer "
   ]
  },
  {
   "cell_type": "code",
   "execution_count": 15,
   "id": "d049bc6a-a4d7-4d5a-b1e1-89fb97329fd2",
   "metadata": {},
   "outputs": [
    {
     "data": {
      "text/html": [
       "<div>\n",
       "<style scoped>\n",
       "    .dataframe tbody tr th:only-of-type {\n",
       "        vertical-align: middle;\n",
       "    }\n",
       "\n",
       "    .dataframe tbody tr th {\n",
       "        vertical-align: top;\n",
       "    }\n",
       "\n",
       "    .dataframe thead th {\n",
       "        text-align: right;\n",
       "    }\n",
       "</style>\n",
       "<table border=\"1\" class=\"dataframe\">\n",
       "  <thead>\n",
       "    <tr style=\"text-align: right;\">\n",
       "      <th></th>\n",
       "      <th>movieId</th>\n",
       "    </tr>\n",
       "  </thead>\n",
       "  <tbody>\n",
       "    <tr>\n",
       "      <th>count</th>\n",
       "      <td>9742.000000</td>\n",
       "    </tr>\n",
       "    <tr>\n",
       "      <th>mean</th>\n",
       "      <td>42200.353623</td>\n",
       "    </tr>\n",
       "    <tr>\n",
       "      <th>std</th>\n",
       "      <td>52160.494854</td>\n",
       "    </tr>\n",
       "    <tr>\n",
       "      <th>min</th>\n",
       "      <td>1.000000</td>\n",
       "    </tr>\n",
       "    <tr>\n",
       "      <th>25%</th>\n",
       "      <td>3248.250000</td>\n",
       "    </tr>\n",
       "    <tr>\n",
       "      <th>50%</th>\n",
       "      <td>7300.000000</td>\n",
       "    </tr>\n",
       "    <tr>\n",
       "      <th>75%</th>\n",
       "      <td>76232.000000</td>\n",
       "    </tr>\n",
       "    <tr>\n",
       "      <th>max</th>\n",
       "      <td>193609.000000</td>\n",
       "    </tr>\n",
       "  </tbody>\n",
       "</table>\n",
       "</div>"
      ],
      "text/plain": [
       "             movieId\n",
       "count    9742.000000\n",
       "mean    42200.353623\n",
       "std     52160.494854\n",
       "min         1.000000\n",
       "25%      3248.250000\n",
       "50%      7300.000000\n",
       "75%     76232.000000\n",
       "max    193609.000000"
      ]
     },
     "execution_count": 15,
     "metadata": {},
     "output_type": "execute_result"
    }
   ],
   "source": [
    "df.describe()"
   ]
  },
  {
   "cell_type": "code",
   "execution_count": 17,
   "id": "75cd5061-82fe-47ee-bef1-21c91207728f",
   "metadata": {},
   "outputs": [
    {
     "data": {
      "text/plain": [
       "movieId    0\n",
       "title      0\n",
       "genres     0\n",
       "dtype: int64"
      ]
     },
     "execution_count": 17,
     "metadata": {},
     "output_type": "execute_result"
    }
   ],
   "source": [
    "df.isnull().sum()"
   ]
  },
  {
   "cell_type": "code",
   "execution_count": 28,
   "id": "468266b6-1b5b-4469-8e08-84fd352768a4",
   "metadata": {},
   "outputs": [],
   "source": [
    "# combine features to compute the similarity between movies\n",
    "features = []          # movieId  , title  , genres\n",
    "for i in range(len(df)):\n",
    "    features.append(str(df[\"movieId\"][i]) + \" \" + df[\"title\"][i] + \" \" + df[\"genres\"][i])"
   ]
  },
  {
   "cell_type": "code",
   "execution_count": 30,
   "id": "9d903440-f03e-46d7-b2e3-d936f8137cee",
   "metadata": {},
   "outputs": [
    {
     "data": {
      "text/plain": [
       "['1 Toy Story (1995) Adventure|Animation|Children|Comedy|Fantasy',\n",
       " '2 Jumanji (1995) Adventure|Children|Fantasy',\n",
       " '3 Grumpier Old Men (1995) Comedy|Romance',\n",
       " '4 Waiting to Exhale (1995) Comedy|Drama|Romance',\n",
       " '5 Father of the Bride Part II (1995) Comedy']"
      ]
     },
     "execution_count": 30,
     "metadata": {},
     "output_type": "execute_result"
    }
   ],
   "source": [
    "features[:5]"
   ]
  },
  {
   "cell_type": "code",
   "execution_count": 34,
   "id": "7b341630-cf79-42dc-9ca0-a35243a34970",
   "metadata": {},
   "outputs": [],
   "source": [
    "df[\"features\"] = features"
   ]
  },
  {
   "cell_type": "code",
   "execution_count": 36,
   "id": "d5570cbe-0c59-4eba-b142-d2dbf76210be",
   "metadata": {},
   "outputs": [
    {
     "data": {
      "text/html": [
       "<div>\n",
       "<style scoped>\n",
       "    .dataframe tbody tr th:only-of-type {\n",
       "        vertical-align: middle;\n",
       "    }\n",
       "\n",
       "    .dataframe tbody tr th {\n",
       "        vertical-align: top;\n",
       "    }\n",
       "\n",
       "    .dataframe thead th {\n",
       "        text-align: right;\n",
       "    }\n",
       "</style>\n",
       "<table border=\"1\" class=\"dataframe\">\n",
       "  <thead>\n",
       "    <tr style=\"text-align: right;\">\n",
       "      <th></th>\n",
       "      <th>movieId</th>\n",
       "      <th>title</th>\n",
       "      <th>genres</th>\n",
       "      <th>features</th>\n",
       "    </tr>\n",
       "  </thead>\n",
       "  <tbody>\n",
       "    <tr>\n",
       "      <th>0</th>\n",
       "      <td>1</td>\n",
       "      <td>Toy Story (1995)</td>\n",
       "      <td>Adventure|Animation|Children|Comedy|Fantasy</td>\n",
       "      <td>1 Toy Story (1995) Adventure|Animation|Childre...</td>\n",
       "    </tr>\n",
       "    <tr>\n",
       "      <th>1</th>\n",
       "      <td>2</td>\n",
       "      <td>Jumanji (1995)</td>\n",
       "      <td>Adventure|Children|Fantasy</td>\n",
       "      <td>2 Jumanji (1995) Adventure|Children|Fantasy</td>\n",
       "    </tr>\n",
       "    <tr>\n",
       "      <th>2</th>\n",
       "      <td>3</td>\n",
       "      <td>Grumpier Old Men (1995)</td>\n",
       "      <td>Comedy|Romance</td>\n",
       "      <td>3 Grumpier Old Men (1995) Comedy|Romance</td>\n",
       "    </tr>\n",
       "    <tr>\n",
       "      <th>3</th>\n",
       "      <td>4</td>\n",
       "      <td>Waiting to Exhale (1995)</td>\n",
       "      <td>Comedy|Drama|Romance</td>\n",
       "      <td>4 Waiting to Exhale (1995) Comedy|Drama|Romance</td>\n",
       "    </tr>\n",
       "    <tr>\n",
       "      <th>4</th>\n",
       "      <td>5</td>\n",
       "      <td>Father of the Bride Part II (1995)</td>\n",
       "      <td>Comedy</td>\n",
       "      <td>5 Father of the Bride Part II (1995) Comedy</td>\n",
       "    </tr>\n",
       "  </tbody>\n",
       "</table>\n",
       "</div>"
      ],
      "text/plain": [
       "   movieId                               title  \\\n",
       "0        1                    Toy Story (1995)   \n",
       "1        2                      Jumanji (1995)   \n",
       "2        3             Grumpier Old Men (1995)   \n",
       "3        4            Waiting to Exhale (1995)   \n",
       "4        5  Father of the Bride Part II (1995)   \n",
       "\n",
       "                                        genres  \\\n",
       "0  Adventure|Animation|Children|Comedy|Fantasy   \n",
       "1                   Adventure|Children|Fantasy   \n",
       "2                               Comedy|Romance   \n",
       "3                         Comedy|Drama|Romance   \n",
       "4                                       Comedy   \n",
       "\n",
       "                                            features  \n",
       "0  1 Toy Story (1995) Adventure|Animation|Childre...  \n",
       "1        2 Jumanji (1995) Adventure|Children|Fantasy  \n",
       "2           3 Grumpier Old Men (1995) Comedy|Romance  \n",
       "3    4 Waiting to Exhale (1995) Comedy|Drama|Romance  \n",
       "4        5 Father of the Bride Part II (1995) Comedy  "
      ]
     },
     "execution_count": 36,
     "metadata": {},
     "output_type": "execute_result"
    }
   ],
   "source": [
    "df.head()"
   ]
  },
  {
   "cell_type": "code",
   "execution_count": 46,
   "id": "da26b456-dd49-4a66-b754-3306e78575e8",
   "metadata": {},
   "outputs": [],
   "source": [
    "# here we vectorized our data I mean بردار سازی کردن داده ها\n",
    "# A matrix of numerical data\n",
    "vectorized_data = CountVectorizer().fit_transform(df[\"features\"])"
   ]
  },
  {
   "cell_type": "code",
   "execution_count": 54,
   "id": "ed82fe1a-c469-486d-a65a-f039158df508",
   "metadata": {},
   "outputs": [],
   "source": [
    "# with cosine similarity we can compute the similarities between movies \n",
    "# range 0(no similarity) to 1(perfect similarity) \n",
    "# rows = movies [i]\n",
    "# columns = movies [j]\n",
    "# [ij] represent how movie i and j  is similar to each other :)\n",
    "recommender_core = cosine_similarity(vectorized_data)"
   ]
  },
  {
   "cell_type": "code",
   "execution_count": 72,
   "id": "83dd343f-523c-4962-ac90-e8749967ab33",
   "metadata": {},
   "outputs": [
    {
     "name": "stdout",
     "output_type": "stream",
     "text": [
      "[[1.         0.63245553 0.28867513 ... 0.         0.11785113 0.1118034 ]\n",
      " [0.63245553 1.         0.18257419 ... 0.         0.         0.        ]\n",
      " [0.28867513 0.18257419 1.         ... 0.         0.         0.12909944]\n",
      " ...\n",
      " [0.         0.         0.         ... 1.         0.         0.        ]\n",
      " [0.11785113 0.         0.         ... 0.         1.         0.        ]\n",
      " [0.1118034  0.         0.12909944 ... 0.         0.         1.        ]]\n"
     ]
    }
   ],
   "source": [
    "print(recommender_core)"
   ]
  },
  {
   "cell_type": "code",
   "execution_count": 80,
   "id": "e859ac4d-b8d2-4afe-b41a-fe9b7b2d43d2",
   "metadata": {},
   "outputs": [
    {
     "data": {
      "text/plain": [
       "(9742, 9742)"
      ]
     },
     "execution_count": 80,
     "metadata": {},
     "output_type": "execute_result"
    }
   ],
   "source": [
    "recommender_core.shape  # as you see we produce a matrix which contains all movies in rows and columns\n",
    "# recommender_core represent [index , similarity]"
   ]
  },
  {
   "cell_type": "code",
   "execution_count": 86,
   "id": "05261e8d-5eca-457d-af41-95738586a187",
   "metadata": {},
   "outputs": [
    {
     "data": {
      "text/plain": [
       "array([1.        , 0.63245553, 0.28867513, ..., 0.        , 0.11785113,\n",
       "       0.1118034 ])"
      ]
     },
     "execution_count": 86,
     "metadata": {},
     "output_type": "execute_result"
    }
   ],
   "source": [
    "recommender_core[0]"
   ]
  },
  {
   "cell_type": "code",
   "execution_count": 106,
   "id": "a204fb41-777c-4e4f-a521-763507caeae2",
   "metadata": {},
   "outputs": [
    {
     "data": {
      "text/plain": [
       "5349"
      ]
     },
     "execution_count": 106,
     "metadata": {},
     "output_type": "execute_result"
    }
   ],
   "source": [
    "df[\"movieId\"][3819]  # it gives you a movieId"
   ]
  },
  {
   "cell_type": "code",
   "execution_count": 108,
   "id": "08d60568-83b1-4af6-9295-a4997e31b272",
   "metadata": {},
   "outputs": [
    {
     "data": {
      "text/plain": [
       "'Spider-Man (2002)'"
      ]
     },
     "execution_count": 108,
     "metadata": {},
     "output_type": "execute_result"
    }
   ],
   "source": [
    "df[\"title\"][3819]  # it gives you the title"
   ]
  },
  {
   "cell_type": "code",
   "execution_count": 142,
   "id": "5ecdfb2b-1095-403f-be8c-b1b2a836f3f3",
   "metadata": {},
   "outputs": [
    {
     "data": {
      "text/plain": [
       "3819    Spider-Man (2002)\n",
       "Name: title, dtype: object"
      ]
     },
     "execution_count": 142,
     "metadata": {},
     "output_type": "execute_result"
    }
   ],
   "source": [
    "# we give the movieId to get the actual location in our df\n",
    "df.loc[df[\"movieId\"] == 5349 , \"title\"] "
   ]
  },
  {
   "cell_type": "code",
   "execution_count": 136,
   "id": "0be53fdd-3aa9-43db-8836-37eb9de29517",
   "metadata": {},
   "outputs": [
    {
     "data": {
      "text/plain": [
       "[(3819, 1.0000000000000002),\n",
       " (6470, 0.7378647873726218),\n",
       " (3768, 0.7071067811865475),\n",
       " (5260, 0.6666666666666667),\n",
       " (7324, 0.6324555320336759),\n",
       " (4118, 0.6299407883487119),\n",
       " (7927, 0.6030226891555273),\n",
       " (385, 0.5892556509887895),\n",
       " (1194, 0.5892556509887895),\n",
       " (2712, 0.5892556509887895)]"
      ]
     },
     "execution_count": 136,
     "metadata": {},
     "output_type": "execute_result"
    }
   ],
   "source": [
    "def get_similarity(item):\n",
    "    return item[1]\n",
    "\n",
    "# the important thing here is that we want the sorted list to show us the similarity of movies with <<3819 - Spider Man>>\n",
    "# as you see 3819 get 1, because it has perfect similarity, I mean they are the same movie\n",
    "\n",
    "sorted_list = sorted(list(enumerate(recommender_core[3819])),  key=get_similarity, reverse=True)\n",
    "sorted_list[:10]"
   ]
  },
  {
   "cell_type": "code",
   "execution_count": 168,
   "id": "9e422121-fc4b-44e7-83eb-ef97d4987c3a",
   "metadata": {},
   "outputs": [],
   "source": [
    "# iloc(0): Accesses the first row\n",
    "# [0]: Gets the value of the title\n",
    "def find_movie_info(index):\n",
    "    movie_id = df[\"movieId\"][index]\n",
    "    movie_title = df.loc[df[\"movieId\"] == movie_id, \"title\"].iloc(0)[0]         \n",
    "    movie_genres = df.loc[df[\"movieId\"] == movie_id, \"genres\"].iloc(0)[0]\n",
    "    movie_genres = movie_genres.split(\"|\")\n",
    "    \n",
    "    return movie_id, movie_title, movie_genres"
   ]
  },
  {
   "cell_type": "code",
   "execution_count": 178,
   "id": "af3d243f-5360-4ea0-83cc-05bb257b30b0",
   "metadata": {},
   "outputs": [],
   "source": [
    "def suggest_movie(index):\n",
    "    sorted_list = sorted(list(enumerate(recommender_core[index])),  key=get_similarity, reverse=True)\n",
    "    sorted_list = sorted_list[:10]\n",
    "    \n",
    "    similar_movies = []\n",
    "    for movie in sorted_list:\n",
    "        try:\n",
    "            movie = find_movie_info(movie[0])\n",
    "            similar_movies.append(movie)\n",
    "        except:\n",
    "            pass\n",
    "        \n",
    "    return similar_movies"
   ]
  },
  {
   "cell_type": "code",
   "execution_count": 182,
   "id": "bc67749f-9e1e-43f1-8969-60a382b5319b",
   "metadata": {},
   "outputs": [
    {
     "data": {
      "text/plain": [
       "[(2, 'Jumanji (1995)', ['Adventure', 'Children', 'Fantasy']),\n",
       " (1,\n",
       "  'Toy Story (1995)',\n",
       "  ['Adventure', 'Animation', 'Children', 'Comedy', 'Fantasy']),\n",
       " (2103, 'Tall Tale (1995)', ['Adventure', 'Children', 'Fantasy', 'Western']),\n",
       " (158, 'Casper (1995)', ['Adventure', 'Children']),\n",
       " (146, 'Amazing Panda Adventure, The (1995)', ['Adventure', 'Children']),\n",
       " (8, 'Tom and Huck (1995)', ['Adventure', 'Children']),\n",
       " (13, 'Balto (1995)', ['Adventure', 'Animation', 'Children']),\n",
       " (243, 'Gordy (1995)', ['Children', 'Comedy', 'Fantasy']),\n",
       " (130450, 'Pan (2015)', ['Adventure', 'Children', 'Fantasy']),\n",
       " (60,\n",
       "  'Indian in the Cupboard, The (1995)',\n",
       "  ['Adventure', 'Children', 'Fantasy'])]"
      ]
     },
     "execution_count": 182,
     "metadata": {},
     "output_type": "execute_result"
    }
   ],
   "source": [
    "# now our sys could suggest movie based on every indeces you want, like here it suggests movies based on Toy story! :)\n",
    "suggest_movie(1)"
   ]
  }
 ],
 "metadata": {
  "kernelspec": {
   "display_name": "Python 3 (ipykernel)",
   "language": "python",
   "name": "python3"
  },
  "language_info": {
   "codemirror_mode": {
    "name": "ipython",
    "version": 3
   },
   "file_extension": ".py",
   "mimetype": "text/x-python",
   "name": "python",
   "nbconvert_exporter": "python",
   "pygments_lexer": "ipython3",
   "version": "3.12.4"
  }
 },
 "nbformat": 4,
 "nbformat_minor": 5
}
